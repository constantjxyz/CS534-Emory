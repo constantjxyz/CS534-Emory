{
 "cells": [
  {
   "cell_type": "code",
   "execution_count": 1,
   "metadata": {},
   "outputs": [],
   "source": [
    "import numpy as np\n",
    "import pandas as pd\n",
    "import os\n",
    "import json\n",
    "import emoji\n",
    "import re\n",
    "import nltk\n",
    "import spellchecker\n",
    "import sklearn\n",
    "from sentence_transformers import SentenceTransformer"
   ]
  },
  {
   "cell_type": "code",
   "execution_count": 2,
   "metadata": {},
   "outputs": [
    {
     "name": "stdout",
     "output_type": "stream",
     "text": [
      "Current Working Directory: /local/scratch/yxie289/mlproject/docs\n",
      "New Working Directory: /local/scratch/yxie289/mlproject\n"
     ]
    }
   ],
   "source": [
    "current_dir = os.getcwd()\n",
    "print(\"Current Working Directory:\", current_dir)\n",
    "parent_dir = os.path.abspath(os.path.join(current_dir, \"..\"))\n",
    "os.chdir(parent_dir)\n",
    "print(\"New Working Directory:\", os.getcwd())"
   ]
  },
  {
   "cell_type": "code",
   "execution_count": 3,
   "metadata": {},
   "outputs": [
    {
     "data": {
      "text/html": [
       "<div>\n",
       "<style scoped>\n",
       "    .dataframe tbody tr th:only-of-type {\n",
       "        vertical-align: middle;\n",
       "    }\n",
       "\n",
       "    .dataframe tbody tr th {\n",
       "        vertical-align: top;\n",
       "    }\n",
       "\n",
       "    .dataframe thead th {\n",
       "        text-align: right;\n",
       "    }\n",
       "</style>\n",
       "<table border=\"1\" class=\"dataframe\">\n",
       "  <thead>\n",
       "    <tr style=\"text-align: right;\">\n",
       "      <th></th>\n",
       "      <th>id</th>\n",
       "      <th>image_path</th>\n",
       "      <th>img_text_path</th>\n",
       "      <th>img_url</th>\n",
       "      <th>labels</th>\n",
       "      <th>tweet_url</th>\n",
       "      <th>tweet_text</th>\n",
       "      <th>labels_str</th>\n",
       "      <th>label</th>\n",
       "      <th>img_text_filename</th>\n",
       "      <th>img_text_available</th>\n",
       "      <th>image_filename</th>\n",
       "      <th>image_available</th>\n",
       "      <th>split</th>\n",
       "    </tr>\n",
       "  </thead>\n",
       "  <tbody>\n",
       "    <tr>\n",
       "      <th>0</th>\n",
       "      <td>1057393737372966912</td>\n",
       "      <td>./dataset/img_resized/1057393737372966912.jpg</td>\n",
       "      <td>./dataset/img_txt/1057393737372966912.json</td>\n",
       "      <td>http://pbs.twimg.com/media/Dqyd_GzW4AE2ElU.jpg</td>\n",
       "      <td>[5, 1, 1]</td>\n",
       "      <td>https://twitter.com/user/status/10573937373729...</td>\n",
       "      <td>Thats  what u call a redneck lol https://t.co/...</td>\n",
       "      <td>['OtherHate', 'Racist', 'Racist']</td>\n",
       "      <td>1</td>\n",
       "      <td>1057393737372966912.json</td>\n",
       "      <td>True</td>\n",
       "      <td>1057393737372966912.jpg</td>\n",
       "      <td>True</td>\n",
       "      <td>train</td>\n",
       "    </tr>\n",
       "    <tr>\n",
       "      <th>1</th>\n",
       "      <td>1057149180148240384</td>\n",
       "      <td>./dataset/img_resized/1057149180148240384.jpg</td>\n",
       "      <td>./dataset/img_txt/1057149180148240384.json</td>\n",
       "      <td>http://pbs.twimg.com/media/Dqu_kg0UwAA70sS.jpg</td>\n",
       "      <td>[0, 3, 1]</td>\n",
       "      <td>https://twitter.com/user/status/10571491801482...</td>\n",
       "      <td>@mortals @Ghostzro Nigga forgot mortal 😭 morta...</td>\n",
       "      <td>['NotHate', 'Homophobe', 'Racist']</td>\n",
       "      <td>1</td>\n",
       "      <td>1057149180148240384.json</td>\n",
       "      <td>True</td>\n",
       "      <td>1057149180148240384.jpg</td>\n",
       "      <td>True</td>\n",
       "      <td>train</td>\n",
       "    </tr>\n",
       "    <tr>\n",
       "      <th>2</th>\n",
       "      <td>1113184475658293251</td>\n",
       "      <td>./dataset/img_resized/1113184475658293251.jpg</td>\n",
       "      <td>./dataset/img_txt/1113184475658293251.json</td>\n",
       "      <td>http://pbs.twimg.com/media/D3LTXs3W4AAbHrk.jpg</td>\n",
       "      <td>[1, 0, 1]</td>\n",
       "      <td>https://twitter.com/user/status/11131844756582...</td>\n",
       "      <td>Nigga if ain't interested in playing for the t...</td>\n",
       "      <td>['Racist', 'NotHate', 'Racist']</td>\n",
       "      <td>1</td>\n",
       "      <td>1113184475658293251.json</td>\n",
       "      <td>True</td>\n",
       "      <td>1113184475658293251.jpg</td>\n",
       "      <td>True</td>\n",
       "      <td>train</td>\n",
       "    </tr>\n",
       "    <tr>\n",
       "      <th>3</th>\n",
       "      <td>1108665597510991873</td>\n",
       "      <td>./dataset/img_resized/1108665597510991873.jpg</td>\n",
       "      <td>./dataset/img_txt/1108665597510991873.json</td>\n",
       "      <td>http://pbs.twimg.com/media/D2LFd5WXgAAeK0A.jpg</td>\n",
       "      <td>[0, 2, 2]</td>\n",
       "      <td>https://twitter.com/user/status/11086655975109...</td>\n",
       "      <td>Love a BBC  So faggot slut https://t.co/Woji3I...</td>\n",
       "      <td>['NotHate', 'Sexist', 'Sexist']</td>\n",
       "      <td>1</td>\n",
       "      <td>1108665597510991873.json</td>\n",
       "      <td>False</td>\n",
       "      <td>1108665597510991873.jpg</td>\n",
       "      <td>True</td>\n",
       "      <td>train</td>\n",
       "    </tr>\n",
       "    <tr>\n",
       "      <th>4</th>\n",
       "      <td>1108732814202228737</td>\n",
       "      <td>./dataset/img_resized/1108732814202228737.jpg</td>\n",
       "      <td>./dataset/img_txt/1108732814202228737.json</td>\n",
       "      <td>http://pbs.twimg.com/media/D2MCnJtXgAEKsVc.jpg</td>\n",
       "      <td>[2, 0, 1]</td>\n",
       "      <td>https://twitter.com/user/status/11087328142022...</td>\n",
       "      <td>@Chief30k leaked Pics of Dog Nigga live action...</td>\n",
       "      <td>['Sexist', 'NotHate', 'Racist']</td>\n",
       "      <td>1</td>\n",
       "      <td>1108732814202228737.json</td>\n",
       "      <td>False</td>\n",
       "      <td>1108732814202228737.jpg</td>\n",
       "      <td>True</td>\n",
       "      <td>train</td>\n",
       "    </tr>\n",
       "  </tbody>\n",
       "</table>\n",
       "</div>"
      ],
      "text/plain": [
       "                    id                                     image_path  \\\n",
       "0  1057393737372966912  ./dataset/img_resized/1057393737372966912.jpg   \n",
       "1  1057149180148240384  ./dataset/img_resized/1057149180148240384.jpg   \n",
       "2  1113184475658293251  ./dataset/img_resized/1113184475658293251.jpg   \n",
       "3  1108665597510991873  ./dataset/img_resized/1108665597510991873.jpg   \n",
       "4  1108732814202228737  ./dataset/img_resized/1108732814202228737.jpg   \n",
       "\n",
       "                                img_text_path  \\\n",
       "0  ./dataset/img_txt/1057393737372966912.json   \n",
       "1  ./dataset/img_txt/1057149180148240384.json   \n",
       "2  ./dataset/img_txt/1113184475658293251.json   \n",
       "3  ./dataset/img_txt/1108665597510991873.json   \n",
       "4  ./dataset/img_txt/1108732814202228737.json   \n",
       "\n",
       "                                          img_url     labels  \\\n",
       "0  http://pbs.twimg.com/media/Dqyd_GzW4AE2ElU.jpg  [5, 1, 1]   \n",
       "1  http://pbs.twimg.com/media/Dqu_kg0UwAA70sS.jpg  [0, 3, 1]   \n",
       "2  http://pbs.twimg.com/media/D3LTXs3W4AAbHrk.jpg  [1, 0, 1]   \n",
       "3  http://pbs.twimg.com/media/D2LFd5WXgAAeK0A.jpg  [0, 2, 2]   \n",
       "4  http://pbs.twimg.com/media/D2MCnJtXgAEKsVc.jpg  [2, 0, 1]   \n",
       "\n",
       "                                           tweet_url  \\\n",
       "0  https://twitter.com/user/status/10573937373729...   \n",
       "1  https://twitter.com/user/status/10571491801482...   \n",
       "2  https://twitter.com/user/status/11131844756582...   \n",
       "3  https://twitter.com/user/status/11086655975109...   \n",
       "4  https://twitter.com/user/status/11087328142022...   \n",
       "\n",
       "                                          tweet_text  \\\n",
       "0  Thats  what u call a redneck lol https://t.co/...   \n",
       "1  @mortals @Ghostzro Nigga forgot mortal 😭 morta...   \n",
       "2  Nigga if ain't interested in playing for the t...   \n",
       "3  Love a BBC  So faggot slut https://t.co/Woji3I...   \n",
       "4  @Chief30k leaked Pics of Dog Nigga live action...   \n",
       "\n",
       "                           labels_str  label         img_text_filename  \\\n",
       "0   ['OtherHate', 'Racist', 'Racist']      1  1057393737372966912.json   \n",
       "1  ['NotHate', 'Homophobe', 'Racist']      1  1057149180148240384.json   \n",
       "2     ['Racist', 'NotHate', 'Racist']      1  1113184475658293251.json   \n",
       "3     ['NotHate', 'Sexist', 'Sexist']      1  1108665597510991873.json   \n",
       "4     ['Sexist', 'NotHate', 'Racist']      1  1108732814202228737.json   \n",
       "\n",
       "   img_text_available           image_filename  image_available  split  \n",
       "0                True  1057393737372966912.jpg             True  train  \n",
       "1                True  1057149180148240384.jpg             True  train  \n",
       "2                True  1113184475658293251.jpg             True  train  \n",
       "3               False  1108665597510991873.jpg             True  train  \n",
       "4               False  1108732814202228737.jpg             True  train  "
      ]
     },
     "execution_count": 3,
     "metadata": {},
     "output_type": "execute_result"
    }
   ],
   "source": [
    "data = pd.read_csv('./dataset/basic_info/all.csv')\n",
    "data.head()"
   ]
  },
  {
   "cell_type": "code",
   "execution_count": 4,
   "metadata": {},
   "outputs": [],
   "source": [
    "def read_img_text(path):\n",
    "    # read the image-text data for certain samples using the path of a json file\n",
    "    if path != '':\n",
    "        with open(path) as json_file:\n",
    "            data = json.load(json_file)\n",
    "            return data['img_text']\n",
    "    return ''\n",
    "url_pattern = re.compile(r'https?://\\S+|www\\.\\S+')\n",
    "at_pattern = re.compile(r'@[\\w]+')\n",
    "stop_words = set(nltk.corpus.stopwords.words('english'))\n",
    "# stemmer = nltk.stem.PorterStemmer()\n",
    "lemmatizer = nltk.stem.WordNetLemmatizer()\n",
    "# spell = spellchecker.SpellChecker()\n",
    "all_texts = []\n",
    "for i in range(len(data)):\n",
    "    tweet_text = data.loc[i, 'tweet_text']\n",
    "    if data.loc[i, 'img_text_available']:\n",
    "        img_text = read_img_text(data.loc[i, 'img_text_path'])\n",
    "    else:\n",
    "        img_text = ''\n",
    "    all_text = tweet_text + '. ' +  img_text\n",
    "    all_text = all_text.lower()    # lower all the characters\n",
    "    all_text = emoji.demojize(all_text)  # translate the emoji\n",
    "    all_text = url_pattern.sub('', all_text)  # delete the url link\n",
    "    all_text = at_pattern.sub('', all_text)  # delete the @user mark\n",
    "    all_text = re.sub(r'[^\\w\\s]', ' ', all_text)  # delete the punctuation marks\n",
    "    all_text = re.sub(r'\\d+', '', all_text)  # delete the numbers \n",
    "    all_texts.append(all_text)\n",
    "all_texts = np.array(all_texts, dtype=object)"
   ]
  },
  {
   "cell_type": "code",
   "execution_count": 19,
   "metadata": {},
   "outputs": [
    {
     "name": "stdout",
     "output_type": "stream",
     "text": [
      "1\n",
      "2\n",
      "3\n",
      "4\n",
      "5\n",
      "6\n",
      "7\n",
      "8\n",
      "9\n",
      "10\n",
      "11\n",
      "12\n",
      "13\n",
      "14\n",
      "15\n"
     ]
    }
   ],
   "source": [
    "all_embeddings = []\n",
    "text_encoder = SentenceTransformer('all-mpnet-base-v2')\n",
    "for idx in range(0, len(all_texts), 10000):\n",
    "    if idx + 10000 <= len(all_texts):\n",
    "        text = all_texts[idx: idx+10000]\n",
    "    else:\n",
    "        text = all_texts[idx:] \n",
    "    embedding = text_encoder.encode(text)\n",
    "    all_embeddings.append(embedding)\n",
    "    print(len(all_embeddings))"
   ]
  },
  {
   "cell_type": "code",
   "execution_count": 24,
   "metadata": {},
   "outputs": [],
   "source": [
    "all_embeddings = list(all_embeddings)"
   ]
  },
  {
   "cell_type": "code",
   "execution_count": 25,
   "metadata": {},
   "outputs": [],
   "source": [
    "np_embeddings = np.concatenate(all_embeddings, axis=0)"
   ]
  },
  {
   "cell_type": "code",
   "execution_count": 27,
   "metadata": {},
   "outputs": [],
   "source": [
    "splits = np.array(data['split'], dtype='object')\n",
    "labels = np.array(data['label'])\n",
    "image_path = np.array(data['image_path'], dtype='object')\n",
    "np.savez('./dataset/embedding/sentence_bert/sentence_bert_768.npz', embeddings=np_embeddings, splits=splits, labels=labels, image_paths = image_path, allow_pickle=True)"
   ]
  },
  {
   "cell_type": "code",
   "execution_count": 28,
   "metadata": {},
   "outputs": [
    {
     "data": {
      "text/plain": [
       "array([0.05807916, 0.08466152, 0.1080174 , 0.12869711, 0.14777718,\n",
       "       0.1658229 , 0.18082525, 0.19516644, 0.20879532, 0.22136357,\n",
       "       0.23348341, 0.24443649, 0.25523715, 0.26582969, 0.27577301,\n",
       "       0.28509359, 0.2942689 , 0.30299923, 0.31139666, 0.3196926 ,\n",
       "       0.32757743, 0.33524741, 0.34263299, 0.34979567, 0.35680677,\n",
       "       0.36371348, 0.37034198, 0.37688621, 0.38323917, 0.38950456,\n",
       "       0.39555205, 0.40147365, 0.40717143, 0.41280782, 0.41839027,\n",
       "       0.42382128, 0.42915432, 0.43447537, 0.43963213, 0.4446949 ,\n",
       "       0.4496177 , 0.45441486, 0.45913956, 0.4638537 , 0.46842809,\n",
       "       0.47289361, 0.47734925, 0.48172793, 0.48608586, 0.49038069,\n",
       "       0.494587  , 0.49874938, 0.50285529, 0.50691282, 0.51092944,\n",
       "       0.51492029, 0.51884587, 0.52271407, 0.52649595, 0.53021249,\n",
       "       0.53386512, 0.5374677 , 0.54100015, 0.54451039])"
      ]
     },
     "execution_count": 28,
     "metadata": {},
     "output_type": "execute_result"
    }
   ],
   "source": [
    "from sklearn.decomposition import PCA\n",
    "\n",
    "# 使用 PCA 进行降维\n",
    "pca = PCA(n_components=64)\n",
    "transformer = pca.fit(np_embeddings[data[data['split'] == 'train'].index])\n",
    "embeddings_reduced = transformer.transform(np_embeddings)\n",
    "print(np.cumsum(pca.explained_variance_ratio_))"
   ]
  },
  {
   "cell_type": "code",
   "execution_count": 31,
   "metadata": {},
   "outputs": [],
   "source": [
    "splits = np.array(data['split'], dtype='object')\n",
    "labels = np.array(data['label'])\n",
    "image_path = np.array(data['image_path'], dtype='object')\n",
    "np.savez('./dataset/embedding/sentence_bert/sentence_bert_pca_64.npz', embeddings=embeddings_reduced, splits=splits, labels=labels, image_paths = image_path, allow_pickle=True)"
   ]
  },
  {
   "cell_type": "code",
   "execution_count": null,
   "metadata": {},
   "outputs": [],
   "source": []
  }
 ],
 "metadata": {
  "kernelspec": {
   "display_name": "venv",
   "language": "python",
   "name": "python3"
  },
  "language_info": {
   "codemirror_mode": {
    "name": "ipython",
    "version": 3
   },
   "file_extension": ".py",
   "mimetype": "text/x-python",
   "name": "python",
   "nbconvert_exporter": "python",
   "pygments_lexer": "ipython3",
   "version": "3.8.10"
  }
 },
 "nbformat": 4,
 "nbformat_minor": 2
}
